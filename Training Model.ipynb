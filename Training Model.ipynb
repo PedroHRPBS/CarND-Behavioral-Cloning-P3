{
 "cells": [
  {
   "cell_type": "code",
   "execution_count": 47,
   "metadata": {},
   "outputs": [],
   "source": [
    "import numpy as np\n",
    "import keras\n",
    "import tensorflow as tf\n",
    "import csv\n",
    "import cv2\n",
    "import matplotlib.pyplot as plt\n",
    "%matplotlib inline"
   ]
  },
  {
   "cell_type": "code",
   "execution_count": 48,
   "metadata": {},
   "outputs": [],
   "source": [
    "from sklearn.model_selection import train_test_split\n",
    "\n",
    "lines = []\n",
    "with open('data_CarND/driving_log.csv') as csvfile:\n",
    "    reader = csv.reader(csvfile)\n",
    "    next(csvfile)\n",
    "    for line in reader:\n",
    "        lines.append(line)\n",
    "        \n",
    "train_samples, validation_samples = train_test_split(lines, test_size=0.2, random_state=42)"
   ]
  },
  {
   "cell_type": "code",
   "execution_count": 49,
   "metadata": {},
   "outputs": [],
   "source": [
    "from sklearn.utils import shuffle \n",
    "\n",
    "def generator(samples, batch_size = 32, correction = 0.2):\n",
    "    num_samples = len(samples)\n",
    "    while 1:\n",
    "        samples = shuffle(samples)\n",
    "        for offset in range(0, num_samples, batch_size):\n",
    "            batch_samples = samples[offset: offset + batch_size]\n",
    "            \n",
    "            images = []\n",
    "            angles = []\n",
    "            for batch_sample in batch_samples:\n",
    "                #Center image\n",
    "                name = batch_sample[0].split('/')[-1]\n",
    "                current_path = 'data_CarND/IMG/' + name\n",
    "                center_image = cv2.imread(current_path)\n",
    "                center_image = cv2.cvtColor(center_image, cv2.COLOR_BGR2RGB)\n",
    "                center_image = cv2.resize(center_image, (160, 80))\n",
    "                center_angle = float(batch_sample[3])\n",
    "                images.append(center_image)\n",
    "                angles.append(center_angle)\n",
    "                \n",
    "                #Left image\n",
    "                name = batch_sample[1].split('/')[-1]\n",
    "                current_path = 'data_CarND/IMG/' + name\n",
    "                left_image = cv2.imread(current_path)\n",
    "                left_image = cv2.cvtColor(left_image, cv2.COLOR_BGR2RGB)\n",
    "                left_image = cv2.resize(left_image, (160, 80))\n",
    "                left_angle = center_angle + correction\n",
    "                images.append(left_image)\n",
    "                angles.append(left_angle)\n",
    "                \n",
    "                #Right image\n",
    "                name = batch_sample[2].split('/')[-1]\n",
    "                current_path = 'data_CarND/IMG/' + name\n",
    "                right_image = cv2.imread(current_path)\n",
    "                right_image = cv2.cvtColor(right_image, cv2.COLOR_BGR2RGB)\n",
    "                right_image = cv2.resize(right_image, (160, 80))\n",
    "                right_angle = center_angle - correction\n",
    "                images.append(right_image)\n",
    "                angles.append(right_angle)\n",
    "            \n",
    "            X_train = np.array(images)\n",
    "            y_train = np.array(angles)\n",
    "            yield shuffle(X_train, y_train)"
   ]
  },
  {
   "cell_type": "code",
   "execution_count": 50,
   "metadata": {},
   "outputs": [],
   "source": [
    "train_generator = generator(train_samples, batch_size=32, correction=0.2)\n",
    "validation_generator = generator(validation_samples, batch_size=32, correction=0.2)\n",
    "\n",
    "row, col, ch = 160, 320, 3"
   ]
  },
  {
   "cell_type": "code",
   "execution_count": 51,
   "metadata": {},
   "outputs": [
    {
     "name": "stdout",
     "output_type": "stream",
     "text": [
      "_________________________________________________________________\n",
      "Layer (type)                 Output Shape              Param #   \n",
      "=================================================================\n",
      "cropping2d_17 (Cropping2D)   (None, 43, 160, 3)        0         \n",
      "_________________________________________________________________\n",
      "lambda_17 (Lambda)           (None, 43, 160, 3)        0         \n",
      "_________________________________________________________________\n",
      "conv2d_66 (Conv2D)           (None, 22, 80, 24)        1824      \n",
      "_________________________________________________________________\n",
      "conv2d_67 (Conv2D)           (None, 11, 40, 36)        21636     \n",
      "_________________________________________________________________\n",
      "conv2d_68 (Conv2D)           (None, 6, 20, 48)         43248     \n",
      "_________________________________________________________________\n",
      "conv2d_69 (Conv2D)           (None, 4, 18, 64)         27712     \n",
      "_________________________________________________________________\n",
      "conv2d_70 (Conv2D)           (None, 2, 16, 64)         36928     \n",
      "_________________________________________________________________\n",
      "flatten_14 (Flatten)         (None, 2048)              0         \n",
      "_________________________________________________________________\n",
      "dense_53 (Dense)             (None, 100)               204900    \n",
      "_________________________________________________________________\n",
      "dense_54 (Dense)             (None, 50)                5050      \n",
      "_________________________________________________________________\n",
      "dense_55 (Dense)             (None, 10)                510       \n",
      "_________________________________________________________________\n",
      "dense_56 (Dense)             (None, 1)                 11        \n",
      "=================================================================\n",
      "Total params: 341,819\n",
      "Trainable params: 341,819\n",
      "Non-trainable params: 0\n",
      "_________________________________________________________________\n",
      "Epoch 1/1\n",
      "10556/10556 [==============================] - 4329s 410ms/step - loss: 0.0043 - val_loss: 0.0075\n"
     ]
    }
   ],
   "source": [
    "from keras.models import Sequential\n",
    "from keras.layers import Dense, Flatten, Lambda, Reshape, Cropping2D, Conv2D\n",
    "\n",
    "model = Sequential()\n",
    "model.add(Cropping2D(cropping=((25, 12), (0, 0)), input_shape=(80, 160, 3)))\n",
    "model.add(Lambda(lambda x: x / 255.0 - 0.5))\n",
    "model.add(Conv2D(filters=24, kernel_size=5, strides=(2, 2), \n",
    "                 padding='same', activation='relu'))\n",
    "model.add(Conv2D(filters=36, kernel_size=5, strides=(2, 2),\n",
    "                 padding='same', activation='relu'))\n",
    "model.add(Conv2D(filters=48, kernel_size=5, strides=(2, 2),\n",
    "                 padding='same', activation='relu'))\n",
    "model.add(Conv2D(filters=64, kernel_size=3, strides=(1, 1),\n",
    "                 padding='valid', activation='relu'))\n",
    "model.add(Conv2D(filters=64, kernel_size=3, strides=(1, 1),\n",
    "                 padding='valid', activation='relu'))\n",
    "model.add(Flatten())\n",
    "model.add(Dense(100))\n",
    "model.add(Dense(50))\n",
    "model.add(Dense(10))\n",
    "model.add(Dense(1))\n",
    "\n",
    "model.summary()\n",
    "\n",
    "model.compile(loss='mse', optimizer='adam')\n",
    "model.fit_generator(train_generator, steps_per_epoch=len(train_samples),\n",
    "                    validation_data=validation_generator,\n",
    "                    validation_steps=len(validation_samples),\n",
    "                    epochs=1, verbose=1)\n",
    "\n",
    "model.save('jupyter_new_model.h5')\n"
   ]
  },
  {
   "cell_type": "code",
   "execution_count": 36,
   "metadata": {},
   "outputs": [
    {
     "name": "stderr",
     "output_type": "stream",
     "text": [
      "/home/pedrohrpbs/anaconda3/lib/python3.6/site-packages/keras/engine/saving.py:292: UserWarning: No training configuration found in save file: the model was *not* compiled. Compile it manually.\n",
      "  warnings.warn('No training configuration found in save file: '\n"
     ]
    }
   ],
   "source": [
    "\n",
    "from keras.models import load_model\n",
    "\n",
    "teste = load_model('jupyter_model.h5')"
   ]
  },
  {
   "cell_type": "code",
   "execution_count": 39,
   "metadata": {},
   "outputs": [
    {
     "data": {
      "text/plain": [
       "<tf.Variable 'conv2d_56_1/kernel:0' shape=(5, 5, 3, 24) dtype=float32_ref>"
      ]
     },
     "execution_count": 39,
     "metadata": {},
     "output_type": "execute_result"
    }
   ],
   "source": [
    "teste.weights"
   ]
  },
  {
   "cell_type": "code",
   "execution_count": 43,
   "metadata": {},
   "outputs": [
    {
     "name": "stdout",
     "output_type": "stream",
     "text": [
      "[name: \"/device:CPU:0\"\n",
      "device_type: \"CPU\"\n",
      "memory_limit: 268435456\n",
      "locality {\n",
      "}\n",
      "incarnation: 7789822338397646485\n",
      "]\n"
     ]
    }
   ],
   "source": [
    "from tensorflow.python.client import device_lib\n",
    "print(device_lib.list_local_devices())"
   ]
  },
  {
   "cell_type": "code",
   "execution_count": 42,
   "metadata": {},
   "outputs": [],
   "source": [
    "sess = tf.Session(config=tf.ConfigProto(log_device_placement=True))\n"
   ]
  },
  {
   "cell_type": "code",
   "execution_count": null,
   "metadata": {},
   "outputs": [],
   "source": []
  }
 ],
 "metadata": {
  "kernelspec": {
   "display_name": "Python 3",
   "language": "python",
   "name": "python3"
  },
  "language_info": {
   "codemirror_mode": {
    "name": "ipython",
    "version": 3
   },
   "file_extension": ".py",
   "mimetype": "text/x-python",
   "name": "python",
   "nbconvert_exporter": "python",
   "pygments_lexer": "ipython3",
   "version": "3.6.5"
  }
 },
 "nbformat": 4,
 "nbformat_minor": 2
}
