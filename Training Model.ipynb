{
 "cells": [
  {
   "cell_type": "code",
   "execution_count": 47,
   "metadata": {},
   "outputs": [],
   "source": [
    "import numpy as np\n",
    "import keras\n",
    "import tensorflow as tf\n",
    "import csv\n",
    "import cv2\n",
    "import matplotlib.pyplot as plt\n",
    "%matplotlib inline"
   ]
  },
  {
   "cell_type": "code",
   "execution_count": 48,
   "metadata": {},
   "outputs": [],
   "source": [
    "from sklearn.model_selection import train_test_split\n",
    "\n",
    "lines = []\n",
    "with open('data_CarND/driving_log.csv') as csvfile:\n",
    "    reader = csv.reader(csvfile)\n",
    "    next(csvfile)\n",
    "    for line in reader:\n",
    "        lines.append(line)\n",
    "        \n",
    "train_samples, validation_samples = train_test_split(lines, test_size=0.2, random_state=42)"
   ]
  },
  {
   "cell_type": "code",
   "execution_count": 49,
   "metadata": {},
   "outputs": [],
   "source": [
    "from sklearn.utils import shuffle \n",
    "\n",
    "def generator(samples, batch_size = 32, correction = 0.2):\n",
    "    num_samples = len(samples)\n",
    "    while 1:\n",
    "        samples = shuffle(samples)\n",
    "        for offset in range(0, num_samples, batch_size):\n",
    "            batch_samples = samples[offset: offset + batch_size]\n",
    "            \n",
    "            images = []\n",
    "            angles = []\n",
    "            for batch_sample in batch_samples:\n",
    "                #Center image\n",
    "                name = batch_sample[0].split('/')[-1]\n",
    "                current_path = 'data_CarND/IMG/' + name\n",
    "                center_image = cv2.imread(current_path)\n",
    "                center_image = cv2.cvtColor(center_image, cv2.COLOR_BGR2RGB)\n",
    "                center_image = cv2.resize(center_image, (160, 80))\n",
    "                center_angle = float(batch_sample[3])\n",
    "                images.append(center_image)\n",
    "                angles.append(center_angle)\n",
    "                \n",
    "                #Left image\n",
    "                name = batch_sample[1].split('/')[-1]\n",
    "                current_path = 'data_CarND/IMG/' + name\n",
    "                left_image = cv2.imread(current_path)\n",
    "                left_image = cv2.cvtColor(left_image, cv2.COLOR_BGR2RGB)\n",
    "                left_image = cv2.resize(left_image, (160, 80))\n",
    "                left_angle = center_angle + correction\n",
    "                images.append(left_image)\n",
    "                angles.append(left_angle)\n",
    "                \n",
    "                #Right image\n",
    "                name = batch_sample[2].split('/')[-1]\n",
    "                current_path = 'data_CarND/IMG/' + name\n",
    "                right_image = cv2.imread(current_path)\n",
    "                right_image = cv2.cvtColor(right_image, cv2.COLOR_BGR2RGB)\n",
    "                right_image = cv2.resize(right_image, (160, 80))\n",
    "                right_angle = center_angle - correction\n",
    "                images.append(right_image)\n",
    "                angles.append(right_angle)\n",
    "            \n",
    "            X_train = np.array(images)\n",
    "            y_train = np.array(angles)\n",
    "            yield shuffle(X_train, y_train)"
   ]
  },
  {
   "cell_type": "code",
   "execution_count": 50,
   "metadata": {},
   "outputs": [],
   "source": [
    "train_generator = generator(train_samples, batch_size=32, correction=0.2)\n",
    "validation_generator = generator(validation_samples, batch_size=32, correction=0.2)\n",
    "\n",
    "row, col, ch = 160, 320, 3"
   ]
  },
  {
   "cell_type": "code",
   "execution_count": 51,
   "metadata": {},
   "outputs": [
    {
     "name": "stdout",
     "output_type": "stream",
     "text": [
      "_________________________________________________________________\n",
      "Layer (type)                 Output Shape              Param #   \n",
      "=================================================================\n",
      "cropping2d_17 (Cropping2D)   (None, 43, 160, 3)        0         \n",
      "_________________________________________________________________\n",
      "lambda_17 (Lambda)           (None, 43, 160, 3)        0         \n",
      "_________________________________________________________________\n",
      "conv2d_66 (Conv2D)           (None, 22, 80, 24)        1824      \n",
      "_________________________________________________________________\n",
      "conv2d_67 (Conv2D)           (None, 11, 40, 36)        21636     \n",
      "_________________________________________________________________\n",
      "conv2d_68 (Conv2D)           (None, 6, 20, 48)         43248     \n",
      "_________________________________________________________________\n",
      "conv2d_69 (Conv2D)           (None, 4, 18, 64)         27712     \n",
      "_________________________________________________________________\n",
      "conv2d_70 (Conv2D)           (None, 2, 16, 64)         36928     \n",
      "_________________________________________________________________\n",
      "flatten_14 (Flatten)         (None, 2048)              0         \n",
      "_________________________________________________________________\n",
      "dense_53 (Dense)             (None, 100)               204900    \n",
      "_________________________________________________________________\n",
      "dense_54 (Dense)             (None, 50)                5050      \n",
      "_________________________________________________________________\n",
      "dense_55 (Dense)             (None, 10)                510       \n",
      "_________________________________________________________________\n",
      "dense_56 (Dense)             (None, 1)                 11        \n",
      "=================================================================\n",
      "Total params: 341,819\n",
      "Trainable params: 341,819\n",
      "Non-trainable params: 0\n",
      "_________________________________________________________________\n",
      "Epoch 1/1\n",
      "10556/10556 [==============================] - 4329s 410ms/step - loss: 0.0043 - val_loss: 0.0075\n"
     ]
    }
   ],
   "source": [
    "from keras.models import Sequential\n",
    "from keras.layers import Dense, Flatten, Lambda, Reshape, Cropping2D, Conv2D\n",
    "\n",
    "model = Sequential()\n",
    "model.add(Cropping2D(cropping=((25, 12), (0, 0)), input_shape=(80, 160, 3)))\n",
    "model.add(Lambda(lambda x: x / 255.0 - 0.5))\n",
    "model.add(Conv2D(filters=24, kernel_size=5, strides=(2, 2), \n",
    "                 padding='same', activation='relu'))\n",
    "model.add(Conv2D(filters=36, kernel_size=5, strides=(2, 2),\n",
    "                 padding='same', activation='relu'))\n",
    "model.add(Conv2D(filters=48, kernel_size=5, strides=(2, 2),\n",
    "                 padding='same', activation='relu'))\n",
    "model.add(Conv2D(filters=64, kernel_size=3, strides=(1, 1),\n",
    "                 padding='valid', activation='relu'))\n",
    "model.add(Conv2D(filters=64, kernel_size=3, strides=(1, 1),\n",
    "                 padding='valid', activation='relu'))\n",
    "model.add(Flatten())\n",
    "model.add(Dense(100))\n",
    "model.add(Dense(50))\n",
    "model.add(Dense(10))\n",
    "model.add(Dense(1))\n",
    "\n",
    "model.summary()\n",
    "\n",
    "model.compile(loss='mse', optimizer='adam')\n",
    "model.fit_generator(train_generator, steps_per_epoch=len(train_samples),\n",
    "                    validation_data=validation_generator,\n",
    "                    validation_steps=len(validation_samples),\n",
    "                    epochs=1, verbose=1)\n",
    "\n",
    "model.save('jupyter_new_model.h5')\n"
   ]
  },
  {
   "cell_type": "code",
   "execution_count": 72,
   "metadata": {},
   "outputs": [],
   "source": [
    "from keras.models import load_model\n",
    "\n",
    "teste = load_model('jupyter_new_model.h5')"
   ]
  },
  {
   "cell_type": "code",
   "execution_count": 73,
   "metadata": {},
   "outputs": [
    {
     "name": "stdout",
     "output_type": "stream",
     "text": [
      "Epoch 1/2\n",
      "10556/10556 [==============================] - 4254s 403ms/step - loss: 6.2039e-04 - val_loss: 0.0071\n",
      "Epoch 2/2\n",
      " 1416/10556 [===>..........................] - ETA: 59:57 - loss: 4.1483e-04"
     ]
    },
    {
     "name": "stderr",
     "output_type": "stream",
     "text": [
      "ERROR:root:Internal Python error in the inspect module.\n",
      "Below is the traceback from this internal error.\n",
      "\n"
     ]
    },
    {
     "name": "stdout",
     "output_type": "stream",
     "text": [
      "Traceback (most recent call last):\n",
      "  File \"/home/pedrohrpbs/anaconda3/lib/python3.6/site-packages/IPython/core/interactiveshell.py\", line 2963, in run_code\n",
      "    exec(code_obj, self.user_global_ns, self.user_ns)\n",
      "  File \"<ipython-input-73-9eb38f5889d4>\", line 5, in <module>\n",
      "    epochs=2, verbose=1)\n",
      "  File \"/home/pedrohrpbs/anaconda3/lib/python3.6/site-packages/keras/legacy/interfaces.py\", line 91, in wrapper\n",
      "    return func(*args, **kwargs)\n",
      "  File \"/home/pedrohrpbs/anaconda3/lib/python3.6/site-packages/keras/engine/training.py\", line 1418, in fit_generator\n",
      "    initial_epoch=initial_epoch)\n",
      "  File \"/home/pedrohrpbs/anaconda3/lib/python3.6/site-packages/keras/engine/training_generator.py\", line 181, in fit_generator\n",
      "    generator_output = next(output_generator)\n",
      "  File \"/home/pedrohrpbs/anaconda3/lib/python3.6/site-packages/keras/utils/data_utils.py\", line 685, in get\n",
      "    inputs = self.queue.get(block=True).get()\n",
      "  File \"/home/pedrohrpbs/anaconda3/lib/python3.6/multiprocessing/pool.py\", line 638, in get\n",
      "    self.wait(timeout)\n",
      "  File \"/home/pedrohrpbs/anaconda3/lib/python3.6/multiprocessing/pool.py\", line 635, in wait\n",
      "    self._event.wait(timeout)\n",
      "  File \"/home/pedrohrpbs/anaconda3/lib/python3.6/threading.py\", line 551, in wait\n",
      "    signaled = self._cond.wait(timeout)\n",
      "  File \"/home/pedrohrpbs/anaconda3/lib/python3.6/threading.py\", line 295, in wait\n",
      "    waiter.acquire()\n",
      "KeyboardInterrupt\n",
      "\n",
      "During handling of the above exception, another exception occurred:\n",
      "\n",
      "Traceback (most recent call last):\n",
      "  File \"/home/pedrohrpbs/anaconda3/lib/python3.6/site-packages/IPython/core/interactiveshell.py\", line 1863, in showtraceback\n",
      "    stb = value._render_traceback_()\n",
      "AttributeError: 'KeyboardInterrupt' object has no attribute '_render_traceback_'\n",
      "\n",
      "During handling of the above exception, another exception occurred:\n",
      "\n",
      "Traceback (most recent call last):\n",
      "  File \"/home/pedrohrpbs/anaconda3/lib/python3.6/genericpath.py\", line 19, in exists\n",
      "    os.stat(path)\n",
      "FileNotFoundError: [Errno 2] No such file or directory: '<ipython-input-73-9eb38f5889d4>'\n",
      "\n",
      "During handling of the above exception, another exception occurred:\n",
      "\n",
      "Traceback (most recent call last):\n",
      "  File \"/home/pedrohrpbs/anaconda3/lib/python3.6/site-packages/IPython/core/ultratb.py\", line 1095, in get_records\n",
      "    return _fixed_getinnerframes(etb, number_of_lines_of_context, tb_offset)\n",
      "  File \"/home/pedrohrpbs/anaconda3/lib/python3.6/site-packages/IPython/core/ultratb.py\", line 311, in wrapped\n",
      "    return f(*args, **kwargs)\n",
      "  File \"/home/pedrohrpbs/anaconda3/lib/python3.6/site-packages/IPython/core/ultratb.py\", line 345, in _fixed_getinnerframes\n",
      "    records = fix_frame_records_filenames(inspect.getinnerframes(etb, context))\n",
      "  File \"/home/pedrohrpbs/anaconda3/lib/python3.6/inspect.py\", line 1483, in getinnerframes\n",
      "    frameinfo = (tb.tb_frame,) + getframeinfo(tb, context)\n",
      "  File \"/home/pedrohrpbs/anaconda3/lib/python3.6/inspect.py\", line 1441, in getframeinfo\n",
      "    filename = getsourcefile(frame) or getfile(frame)\n",
      "  File \"/home/pedrohrpbs/anaconda3/lib/python3.6/inspect.py\", line 693, in getsourcefile\n",
      "    if os.path.exists(filename):\n",
      "  File \"/home/pedrohrpbs/anaconda3/lib/python3.6/genericpath.py\", line 19, in exists\n",
      "    os.stat(path)\n",
      "KeyboardInterrupt\n"
     ]
    },
    {
     "ename": "KeyboardInterrupt",
     "evalue": "",
     "output_type": "error",
     "traceback": [
      "\u001b[0;31m---------------------------------------------------------------------------\u001b[0m"
     ]
    }
   ],
   "source": [
    "teste.compile(loss='mse', optimizer='adam')\n",
    "teste.fit_generator(train_generator, steps_per_epoch=len(train_samples),\n",
    "                    validation_data=validation_generator,\n",
    "                    validation_steps=len(validation_samples),\n",
    "                    epochs=2, verbose=1)\n",
    "\n",
    "hist = teste.save('jupyter_new_model_v2.h5')"
   ]
  },
  {
   "cell_type": "code",
   "execution_count": null,
   "metadata": {},
   "outputs": [],
   "source": []
  }
 ],
 "metadata": {
  "kernelspec": {
   "display_name": "Python 3",
   "language": "python",
   "name": "python3"
  },
  "language_info": {
   "codemirror_mode": {
    "name": "ipython",
    "version": 3
   },
   "file_extension": ".py",
   "mimetype": "text/x-python",
   "name": "python",
   "nbconvert_exporter": "python",
   "pygments_lexer": "ipython3",
   "version": "3.6.5"
  }
 },
 "nbformat": 4,
 "nbformat_minor": 2
}
